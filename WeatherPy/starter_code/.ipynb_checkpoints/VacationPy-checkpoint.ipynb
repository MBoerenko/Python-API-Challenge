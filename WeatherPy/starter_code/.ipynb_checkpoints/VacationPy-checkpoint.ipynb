{
 "cells": [
  {
   "cell_type": "markdown",
   "metadata": {},
   "source": [
    "# VacationPy\n",
    "----\n",
    "\n",
    "#### Note\n",
    "* Instructions have been included for each segment. You do not have to follow them exactly, but they are included to help you think through the steps."
   ]
  },
  {
   "cell_type": "code",
   "execution_count": 1,
   "metadata": {},
   "outputs": [],
   "source": [
    "# Dependencies and Setup\n",
    "import matplotlib.pyplot as plt\n",
    "import pandas as pd\n",
    "import numpy as np\n",
    "import requests\n",
    "import gmaps\n",
    "import os\n",
    "import json\n",
    "\n",
    "# Import API key\n",
    "from api_keys import g_key"
   ]
  },
  {
   "cell_type": "markdown",
   "metadata": {},
   "source": [
    "### Store Part I results into DataFrame\n",
    "* Load the csv exported in Part I to a DataFrame"
   ]
  },
  {
   "cell_type": "code",
   "execution_count": 2,
   "metadata": {},
   "outputs": [],
   "source": [
    "#Import the city data from WeatherPy\n",
    "csv_path = \"city_data.csv\"\n",
    "vacay_df = pd.read_csv(csv_path)\n",
    "\n",
    "#Remove the unnamed column from the new DataFrame\n",
    "vacay_df = vacay_df.loc[:, ~vacay_df.columns.str.contains('^Unnamed')]"
   ]
  },
  {
   "cell_type": "markdown",
   "metadata": {},
   "source": [
    "### Humidity Heatmap\n",
    "* Configure gmaps.\n",
    "* Use the Lat and Lng as locations and Humidity as the weight.\n",
    "* Add Heatmap layer to map."
   ]
  },
  {
   "cell_type": "code",
   "execution_count": 3,
   "metadata": {},
   "outputs": [
    {
     "data": {
      "application/vnd.jupyter.widget-view+json": {
       "model_id": "b05fa12514154311a9b6433a57530748",
       "version_major": 2,
       "version_minor": 0
      },
      "text/plain": [
       "Figure(layout=FigureLayout(border='1px solid black', height='300px', margin='0 auto 0 auto', padding='1px', wi…"
      ]
     },
     "metadata": {},
     "output_type": "display_data"
    }
   ],
   "source": [
    "#Configure gmaps\n",
    "gmaps.configure(api_key=g_key)\n",
    "\n",
    "#Store latitude and longitude in locations\n",
    "locations = vacay_df[[\"Lat\", \"Lng\"]]\n",
    "\n",
    "#Convert weights to float\n",
    "weights = vacay_df[\"Humidity(%)\"].astype(float)\n",
    "\n",
    "# Plot Heatmap\n",
    "fig = gmaps.figure()\n",
    "\n",
    "#Set max intensity\n",
    "max_intensity=vacay_df['Humidity(%)'].max()\n",
    "\n",
    "# Create heat layer\n",
    "heat_layer = gmaps.heatmap_layer(locations, weights=weights, \n",
    "                                 dissipating=False, max_intensity=max_intensity,\n",
    "                                 point_radius=3)\n",
    "\n",
    "#Create figure layout\n",
    "figure_layout = {\n",
    "    'width': '400px',\n",
    "    'height': '300px',\n",
    "    'border': '1px solid black',\n",
    "    'padding': '1px',\n",
    "    'margin': '0 auto 0 auto'\n",
    "}\n",
    "fig = gmaps.figure(layout=figure_layout)\n",
    "\n",
    "# Add Heat layer\n",
    "fig.add_layer(heat_layer)\n",
    "\n",
    "# Display figure\n",
    "fig"
   ]
  },
  {
   "cell_type": "markdown",
   "metadata": {},
   "source": [
    "### Create new DataFrame fitting weather criteria\n",
    "* Narrow down the cities to fit weather conditions.\n",
    "* Drop any rows will null values."
   ]
  },
  {
   "cell_type": "code",
   "execution_count": 4,
   "metadata": {},
   "outputs": [],
   "source": [
    "#Drop Cities with a max temp above 78 or below 70\n",
    "for index, row in vacay_df.iterrows():\n",
    "    if row['Max Temp(F)']>78 or row['Max Temp(F)']<70:\n",
    "        vacay_df.drop(vacay_df[vacay_df['Max Temp(F)']>78].index, inplace=True)\n",
    "        vacay_df.drop(vacay_df[vacay_df['Max Temp(F)']<70].index, inplace=True)\n",
    "        temp_df = vacay_df"
   ]
  },
  {
   "cell_type": "code",
   "execution_count": 5,
   "metadata": {},
   "outputs": [],
   "source": [
    "#Drop Cities with a wind speed above 12\n",
    "for index, row in temp_df.iterrows():\n",
    "    if row['Wind Speed(mph)']>12:\n",
    "        temp_df.drop(temp_df[temp_df['Wind Speed(mph)']>12].index, inplace=True)\n",
    "        wind_df = temp_df"
   ]
  },
  {
   "cell_type": "code",
   "execution_count": 6,
   "metadata": {
    "scrolled": true
   },
   "outputs": [
    {
     "data": {
      "text/html": [
       "<div>\n",
       "<style scoped>\n",
       "    .dataframe tbody tr th:only-of-type {\n",
       "        vertical-align: middle;\n",
       "    }\n",
       "\n",
       "    .dataframe tbody tr th {\n",
       "        vertical-align: top;\n",
       "    }\n",
       "\n",
       "    .dataframe thead th {\n",
       "        text-align: right;\n",
       "    }\n",
       "</style>\n",
       "<table border=\"1\" class=\"dataframe\">\n",
       "  <thead>\n",
       "    <tr style=\"text-align: right;\">\n",
       "      <th></th>\n",
       "      <th>City</th>\n",
       "      <th>Lat</th>\n",
       "      <th>Lng</th>\n",
       "      <th>Max Temp(F)</th>\n",
       "      <th>Humidity(%)</th>\n",
       "      <th>Cloudiness(%)</th>\n",
       "      <th>Wind Speed(mph)</th>\n",
       "      <th>Country</th>\n",
       "      <th>Date</th>\n",
       "    </tr>\n",
       "  </thead>\n",
       "  <tbody>\n",
       "    <tr>\n",
       "      <th>15</th>\n",
       "      <td>Laguna</td>\n",
       "      <td>38.42</td>\n",
       "      <td>-121.42</td>\n",
       "      <td>75.99</td>\n",
       "      <td>56</td>\n",
       "      <td>1</td>\n",
       "      <td>4.70</td>\n",
       "      <td>US</td>\n",
       "      <td>1595091523</td>\n",
       "    </tr>\n",
       "    <tr>\n",
       "      <th>28</th>\n",
       "      <td>Castro</td>\n",
       "      <td>-24.79</td>\n",
       "      <td>-50.01</td>\n",
       "      <td>74.50</td>\n",
       "      <td>53</td>\n",
       "      <td>1</td>\n",
       "      <td>6.87</td>\n",
       "      <td>BR</td>\n",
       "      <td>1595091525</td>\n",
       "    </tr>\n",
       "    <tr>\n",
       "      <th>80</th>\n",
       "      <td>Makakilo City</td>\n",
       "      <td>21.35</td>\n",
       "      <td>-158.09</td>\n",
       "      <td>75.20</td>\n",
       "      <td>83</td>\n",
       "      <td>1</td>\n",
       "      <td>4.70</td>\n",
       "      <td>US</td>\n",
       "      <td>1595091534</td>\n",
       "    </tr>\n",
       "    <tr>\n",
       "      <th>122</th>\n",
       "      <td>Kahului</td>\n",
       "      <td>20.89</td>\n",
       "      <td>-156.47</td>\n",
       "      <td>75.99</td>\n",
       "      <td>69</td>\n",
       "      <td>1</td>\n",
       "      <td>8.41</td>\n",
       "      <td>US</td>\n",
       "      <td>1595091375</td>\n",
       "    </tr>\n",
       "    <tr>\n",
       "      <th>289</th>\n",
       "      <td>Gamba</td>\n",
       "      <td>-2.65</td>\n",
       "      <td>10.00</td>\n",
       "      <td>73.35</td>\n",
       "      <td>79</td>\n",
       "      <td>0</td>\n",
       "      <td>9.01</td>\n",
       "      <td>GA</td>\n",
       "      <td>1595091576</td>\n",
       "    </tr>\n",
       "    <tr>\n",
       "      <th>293</th>\n",
       "      <td>San Ramon</td>\n",
       "      <td>37.78</td>\n",
       "      <td>-121.98</td>\n",
       "      <td>73.00</td>\n",
       "      <td>60</td>\n",
       "      <td>1</td>\n",
       "      <td>4.70</td>\n",
       "      <td>US</td>\n",
       "      <td>1595091516</td>\n",
       "    </tr>\n",
       "    <tr>\n",
       "      <th>337</th>\n",
       "      <td>Peniche</td>\n",
       "      <td>39.36</td>\n",
       "      <td>-9.38</td>\n",
       "      <td>75.99</td>\n",
       "      <td>83</td>\n",
       "      <td>0</td>\n",
       "      <td>8.01</td>\n",
       "      <td>PT</td>\n",
       "      <td>1595091585</td>\n",
       "    </tr>\n",
       "    <tr>\n",
       "      <th>414</th>\n",
       "      <td>Lobito</td>\n",
       "      <td>-12.35</td>\n",
       "      <td>13.55</td>\n",
       "      <td>71.26</td>\n",
       "      <td>78</td>\n",
       "      <td>0</td>\n",
       "      <td>2.53</td>\n",
       "      <td>AO</td>\n",
       "      <td>1595091603</td>\n",
       "    </tr>\n",
       "    <tr>\n",
       "      <th>490</th>\n",
       "      <td>Tsogni</td>\n",
       "      <td>-2.79</td>\n",
       "      <td>10.10</td>\n",
       "      <td>72.72</td>\n",
       "      <td>80</td>\n",
       "      <td>1</td>\n",
       "      <td>8.41</td>\n",
       "      <td>GA</td>\n",
       "      <td>1595091619</td>\n",
       "    </tr>\n",
       "    <tr>\n",
       "      <th>493</th>\n",
       "      <td>Mossamedes</td>\n",
       "      <td>-15.20</td>\n",
       "      <td>12.15</td>\n",
       "      <td>71.47</td>\n",
       "      <td>61</td>\n",
       "      <td>0</td>\n",
       "      <td>8.70</td>\n",
       "      <td>AO</td>\n",
       "      <td>1595091620</td>\n",
       "    </tr>\n",
       "    <tr>\n",
       "      <th>566</th>\n",
       "      <td>Bukama</td>\n",
       "      <td>-9.20</td>\n",
       "      <td>25.85</td>\n",
       "      <td>71.58</td>\n",
       "      <td>35</td>\n",
       "      <td>0</td>\n",
       "      <td>6.33</td>\n",
       "      <td>CD</td>\n",
       "      <td>1595091634</td>\n",
       "    </tr>\n",
       "  </tbody>\n",
       "</table>\n",
       "</div>"
      ],
      "text/plain": [
       "              City    Lat     Lng  Max Temp(F)  Humidity(%)  Cloudiness(%)  \\\n",
       "15          Laguna  38.42 -121.42        75.99           56              1   \n",
       "28          Castro -24.79  -50.01        74.50           53              1   \n",
       "80   Makakilo City  21.35 -158.09        75.20           83              1   \n",
       "122        Kahului  20.89 -156.47        75.99           69              1   \n",
       "289          Gamba  -2.65   10.00        73.35           79              0   \n",
       "293      San Ramon  37.78 -121.98        73.00           60              1   \n",
       "337        Peniche  39.36   -9.38        75.99           83              0   \n",
       "414         Lobito -12.35   13.55        71.26           78              0   \n",
       "490         Tsogni  -2.79   10.10        72.72           80              1   \n",
       "493     Mossamedes -15.20   12.15        71.47           61              0   \n",
       "566         Bukama  -9.20   25.85        71.58           35              0   \n",
       "\n",
       "     Wind Speed(mph) Country        Date  \n",
       "15              4.70      US  1595091523  \n",
       "28              6.87      BR  1595091525  \n",
       "80              4.70      US  1595091534  \n",
       "122             8.41      US  1595091375  \n",
       "289             9.01      GA  1595091576  \n",
       "293             4.70      US  1595091516  \n",
       "337             8.01      PT  1595091585  \n",
       "414             2.53      AO  1595091603  \n",
       "490             8.41      GA  1595091619  \n",
       "493             8.70      AO  1595091620  \n",
       "566             6.33      CD  1595091634  "
      ]
     },
     "execution_count": 6,
     "metadata": {},
     "output_type": "execute_result"
    }
   ],
   "source": [
    "#Drop Cities with a Cloudiness above 2%\n",
    "for index, row in wind_df.iterrows():\n",
    "    if row['Cloudiness(%)']>2:\n",
    "        wind_df.drop(wind_df[wind_df['Cloudiness(%)']>2].index, inplace=True)\n",
    "        hotel_df = wind_df\n",
    "hotel_df"
   ]
  },
  {
   "cell_type": "markdown",
   "metadata": {},
   "source": [
    "### Hotel Map\n",
    "* Store into variable named `hotel_df`.\n",
    "* Add a \"Hotel Name\" column to the DataFrame.\n",
    "* Set parameters to search for hotels with 5000 meters.\n",
    "* Hit the Google Places API for each city's coordinates.\n",
    "* Store the first Hotel result into the DataFrame.\n",
    "* Plot markers on top of the heatmap."
   ]
  },
  {
   "cell_type": "code",
   "execution_count": 7,
   "metadata": {},
   "outputs": [
    {
     "name": "stdout",
     "output_type": "stream",
     "text": [
      "Missing field/result... skipping.\n",
      "Missing field/result... skipping.\n",
      "Missing field/result... skipping.\n"
     ]
    }
   ],
   "source": [
    "#Add hotel name to hotel_df\n",
    "hotel_df['Hotel Name']=\"\"\n",
    "\n",
    "# params dictionary to update each iteration\n",
    "params = {\n",
    "    \"radius\": 5000,\n",
    "    \"type\": \"hotel\",\n",
    "    \"keyword\": \"hotels\",\n",
    "    \"key\": g_key\n",
    "}\n",
    "# Use the lat/lng to identify hotels\n",
    "for index, row in hotel_df.iterrows():\n",
    "\n",
    "    # get lat, lng from df\n",
    "    lat = row[\"Lat\"]\n",
    "    lng = row[\"Lng\"]\n",
    "\n",
    "    # change location each iteration while leaving original params in place\n",
    "    params['location'] =  f\"{lat},{lng}\"\n",
    "    \n",
    "    # Use the search term: \"hotel\" and our lat/lng\n",
    "    base_url = \"https://maps.googleapis.com/maps/api/place/nearbysearch/json\"\n",
    "    \n",
    "    # make request and print url\n",
    "    hotel_name = requests.get(base_url, params=params)\n",
    "    \n",
    "    # convert to json\n",
    "    hotel_name = hotel_name.json()\n",
    "  \n",
    "    #Add a try and except for KeyError and IndexError\n",
    "    try:\n",
    "        hotel_df.loc[index, \"Hotel Name\"] = hotel_name[\"results\"][0][\"name\"]\n",
    "        \n",
    "    except (KeyError, IndexError):\n",
    "        print(\"Missing field/result... skipping.\")"
   ]
  },
  {
   "cell_type": "code",
   "execution_count": 8,
   "metadata": {},
   "outputs": [],
   "source": [
    "# NOTE: Do not change any of the code in this cell\n",
    "\n",
    "# Using the template add the hotel marks to the heatmap\n",
    "info_box_template = \"\"\"\n",
    "<dl>\n",
    "<dt>Name</dt><dd>{Hotel Name}</dd>\n",
    "<dt>City</dt><dd>{City}</dd>\n",
    "<dt>Country</dt><dd>{Country}</dd>\n",
    "</dl>\n",
    "\"\"\"\n",
    "# Store the DataFrame Row\n",
    "# NOTE: be sure to update with your DataFrame name\n",
    "hotel_info = [info_box_template.format(**row) for index, row in hotel_df.iterrows()]\n",
    "locations = hotel_df[[\"Lat\", \"Lng\"]]"
   ]
  },
  {
   "cell_type": "code",
   "execution_count": 9,
   "metadata": {},
   "outputs": [
    {
     "data": {
      "application/vnd.jupyter.widget-view+json": {
       "model_id": "b05fa12514154311a9b6433a57530748",
       "version_major": 2,
       "version_minor": 0
      },
      "text/plain": [
       "Figure(layout=FigureLayout(border='1px solid black', height='300px', margin='0 auto 0 auto', padding='1px', wi…"
      ]
     },
     "metadata": {},
     "output_type": "display_data"
    }
   ],
   "source": [
    "#Add the hotels to the heat map\n",
    "markers = gmaps.marker_layer(locations,\n",
    "    info_box_content=hotel_info)\n",
    "\n",
    "fig.add_layer(markers)\n",
    "\n",
    "fig"
   ]
  },
  {
   "cell_type": "code",
   "execution_count": null,
   "metadata": {},
   "outputs": [],
   "source": []
  }
 ],
 "metadata": {
  "kernelspec": {
   "display_name": "Python 3",
   "language": "python",
   "name": "python3"
  },
  "language_info": {
   "codemirror_mode": {
    "name": "ipython",
    "version": 3
   },
   "file_extension": ".py",
   "mimetype": "text/x-python",
   "name": "python",
   "nbconvert_exporter": "python",
   "pygments_lexer": "ipython3",
   "version": "3.6.10"
  },
  "latex_envs": {
   "LaTeX_envs_menu_present": true,
   "autoclose": false,
   "autocomplete": true,
   "bibliofile": "biblio.bib",
   "cite_by": "apalike",
   "current_citInitial": 1,
   "eqLabelWithNumbers": true,
   "eqNumInitial": 1,
   "hotkeys": {
    "equation": "Ctrl-E",
    "itemize": "Ctrl-I"
   },
   "labels_anchors": false,
   "latex_user_defs": false,
   "report_style_numbering": false,
   "user_envs_cfg": false
  }
 },
 "nbformat": 4,
 "nbformat_minor": 2
}
